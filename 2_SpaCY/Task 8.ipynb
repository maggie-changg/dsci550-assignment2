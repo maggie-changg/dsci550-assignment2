{
 "cells": [
  {
   "cell_type": "code",
   "execution_count": 55,
   "id": "1e806148-dd3a-4d95-ba9c-08c1ed5497fd",
   "metadata": {},
   "outputs": [],
   "source": [
    "import pandas as pd\n",
    "import spacy \n",
    "import en_core_web_sm\n",
    "import numpy as np"
   ]
  },
  {
   "cell_type": "code",
   "execution_count": 41,
   "id": "ac0e3a83-68c3-48fe-a018-421332cf34df",
   "metadata": {},
   "outputs": [],
   "source": [
    "haunted_places = pd.read_csv(\"../Datasets/haunted_places.tsv\", sep=\"\\t\")\n",
    "nlp = spacy.load('en_core_web_sm')\n",
    "\n",
    "def extract_text(description):\n",
    "    content = nlp(description)\n",
    "    return [ent.text for ent in content.ents]\n",
    "\n",
    "def extract_labels(description):\n",
    "    content = nlp(description)\n",
    "    return [ent.label_ for ent in content.ents]\n"
   ]
  },
  {
   "cell_type": "code",
   "execution_count": 47,
   "id": "24e8274b-8726-4ca4-bffe-3dfb01c64f97",
   "metadata": {},
   "outputs": [],
   "source": [
    "haunted_places.loc[:,\"Entity Labels\"] = haunted_places['description'].apply(extract_labels)\n",
    "haunted_places.loc[:,\"Entity Texts\"] = haunted_places['description'].apply(extract_text)"
   ]
  },
  {
   "cell_type": "code",
   "execution_count": 57,
   "id": "5818332e-3146-43f7-b119-64fb7b77f89f",
   "metadata": {},
   "outputs": [],
   "source": [
    "haunted_places[\"Entity Labels\"] = haunted_places[\"Entity Labels\"].apply(lambda y: np.nan if len(y)==0 else y)\n",
    "haunted_places[\"Entity Texts\"] = haunted_places[\"Entity Texts\"].apply(lambda y: np.nan if len(y)==0 else y)"
   ]
  },
  {
   "cell_type": "code",
   "execution_count": 75,
   "id": "7a54787f-0cd0-42a0-8f6b-c54250974502",
   "metadata": {},
   "outputs": [
    {
     "name": "stdout",
     "output_type": "stream",
     "text": [
      "Number of rows with detected entities: 9163 (83.36%)\n",
      "Number of rows without detected entities: 1829 (16.64%)\n"
     ]
    }
   ],
   "source": [
    "nondetect = haunted_places['Entity Texts'].isna().sum()\n",
    "total = len(haunted_places)\n",
    "detect = total - nondetect\n",
    "detect_per = detect/total*100\n",
    "nondetect_per = nondetect/total*100\n",
    "print(f\"Number of rows with detected entities: {detect} ({detect_per:.2f}%)\")\n",
    "print(f\"Number of rows without detected entities: {nondetect} ({nondetect_per:.2f}%)\")"
   ]
  },
  {
   "cell_type": "code",
   "execution_count": 63,
   "id": "4c49225d-9a93-4841-b647-aa99ee2d5b91",
   "metadata": {},
   "outputs": [],
   "source": [
    "haunted_places.to_csv(\"data/haunted_places_entities.tsv\", sep='\\t', index=False)"
   ]
  },
  {
   "cell_type": "code",
   "execution_count": null,
   "id": "055eb6c2-c0e3-4d22-a2ae-da8c5b0c9470",
   "metadata": {},
   "outputs": [],
   "source": []
  }
 ],
 "metadata": {
  "kernelspec": {
   "display_name": "Python [conda env:base] *",
   "language": "python",
   "name": "conda-base-py"
  },
  "language_info": {
   "codemirror_mode": {
    "name": "ipython",
    "version": 3
   },
   "file_extension": ".py",
   "mimetype": "text/x-python",
   "name": "python",
   "nbconvert_exporter": "python",
   "pygments_lexer": "ipython3",
   "version": "3.12.7"
  }
 },
 "nbformat": 4,
 "nbformat_minor": 5
}
